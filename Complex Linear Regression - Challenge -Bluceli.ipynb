{
 "cells": [
  {
   "cell_type": "markdown",
   "id": "kolGOvMANo8O",
   "metadata": {
    "id": "kolGOvMANo8O"
   },
   "source": [
    "![Emil](data:image/png;base64,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)"
   ]
  },
  {
   "cell_type": "markdown",
   "id": "d87eff80",
   "metadata": {
    "id": "d87eff80"
   },
   "source": [
    "# Predicting house prices\n",
    "\n",
    "In this challenge, you'll be using your newly acquired Linear Regression skills to try **to predict house prices in Ames, Iowa!**\n",
    "\n",
    "You'll have to do some more complex preprocessing and when you try to model, things might not go your way...\n",
    "\n",
    "**Let's get started!**"
   ]
  },
  {
   "cell_type": "markdown",
   "id": "a7780497",
   "metadata": {
    "id": "a7780497"
   },
   "source": [
    "## Import the Data"
   ]
  },
  {
   "cell_type": "markdown",
   "id": "1b154fa8",
   "metadata": {
    "id": "1b154fa8"
   },
   "source": [
    "Start by importing the data from this link!\n",
    "\n",
    "[`Iowa_housing_prices.csv`](https://drive.google.com/file/d/1YgFv1_0-xl0blchMvhtUev4vzYX0BFGs/view?usp=sharing)\n",
    "\n",
    "Load it into a dataframe!"
   ]
  },
  {
   "cell_type": "markdown",
   "id": "185440d7",
   "metadata": {
    "id": "185440d7"
   },
   "source": [
    "## Cleaning"
   ]
  },
  {
   "cell_type": "markdown",
   "id": "ce9a5e23",
   "metadata": {
    "id": "ce9a5e23"
   },
   "source": [
    "### Handle NA values"
   ]
  },
  {
   "cell_type": "markdown",
   "id": "bfe118f2",
   "metadata": {
    "id": "bfe118f2"
   },
   "source": [
    "Unlike the previous challenge, this dataset has not been cleaned!\n",
    "\n",
    "Most important thing to take care of are NA values!\n",
    "\n",
    "Which columns have missing values?"
   ]
  },
  {
   "cell_type": "markdown",
   "id": "794d440c",
   "metadata": {
    "id": "794d440c"
   },
   "source": [
    "### To drop or to fill?\n",
    "\n",
    "Some columns miss many more values than others!\n",
    "\n",
    "Typically we would drop columns that have more than 30% missing values. For the others, we would fill them using an imputer. But for now, to keep things simple, let's drop all our missing values."
   ]
  },
  {
   "cell_type": "code",
   "execution_count": 8,
   "id": "26bca245",
   "metadata": {
    "id": "26bca245"
   },
   "outputs": [
    {
     "name": "stdout",
     "output_type": "stream",
     "text": [
      "   Id  MSSubClass MSZoning  LotFrontage  LotArea Street Alley LotShape  \\\n",
      "0   1          60       RL         65.0     8450   Pave   NaN      Reg   \n",
      "1   2          20       RL         80.0     9600   Pave   NaN      Reg   \n",
      "2   3          60       RL         68.0    11250   Pave   NaN      IR1   \n",
      "3   4          70       RL         60.0     9550   Pave   NaN      IR1   \n",
      "4   5          60       RL         84.0    14260   Pave   NaN      IR1   \n",
      "\n",
      "  LandContour Utilities  ... PoolArea PoolQC Fence MiscFeature MiscVal MoSold  \\\n",
      "0         Lvl    AllPub  ...        0    NaN   NaN         NaN       0      2   \n",
      "1         Lvl    AllPub  ...        0    NaN   NaN         NaN       0      5   \n",
      "2         Lvl    AllPub  ...        0    NaN   NaN         NaN       0      9   \n",
      "3         Lvl    AllPub  ...        0    NaN   NaN         NaN       0      2   \n",
      "4         Lvl    AllPub  ...        0    NaN   NaN         NaN       0     12   \n",
      "\n",
      "  YrSold  SaleType  SaleCondition  SalePrice  \n",
      "0   2008        WD         Normal     208500  \n",
      "1   2007        WD         Normal     181500  \n",
      "2   2008        WD         Normal     223500  \n",
      "3   2006        WD        Abnorml     140000  \n",
      "4   2008        WD         Normal     250000  \n",
      "\n",
      "[5 rows x 81 columns]\n",
      "total rows qty:75\n"
     ]
    }
   ],
   "source": [
    "import pandas as pd\n",
    "file_path = r\"C:\\Users\\dell\\Desktop\\Iowa_housing_prices.csv\"\n",
    "df = pd.read_csv(file_path)\n",
    "print(df.head())\n",
    "\n",
    "df.drop(columns=['Alley','MasVnrType','FireplaceQu','PoolQC','Fence','MiscFeature'],inplace = True)\n",
    "df.dropna(inplace = True)\n",
    "null_counts = df.isnull().sum()\n",
    "#print(null_counts)\n",
    "print(f\"total rows qty:{df.shape[1]}\")"
   ]
  },
  {
   "cell_type": "markdown",
   "id": "d99ecd16",
   "metadata": {
    "id": "d99ecd16"
   },
   "source": [
    "## Picking X and y\n",
    "\n",
    "After cleaning, we are left with 76 columns/features. That's a lot to choose from! If we were experts in real estate, we could use our domain knowledge and pick out features we know are important!\n",
    "\n",
    "However, we're not taking that approach today. We'll use all of the features to try to reach a prediction, all 76 of them!\n",
    "\n",
    "Assign `X` and `y` appropriately! Keep in mind that we are trying to predict house prices!"
   ]
  },
  {
   "cell_type": "code",
   "execution_count": 4,
   "id": "6877f9ae",
   "metadata": {
    "id": "6877f9ae"
   },
   "outputs": [],
   "source": [
    "from sklearn.model_selection import train_test_split\n",
    "\n",
    "X = df.drop(columns=['SalePrice'])\n",
    "y =df[['SalePrice']]"
   ]
  },
  {
   "cell_type": "markdown",
   "id": "debf60fb",
   "metadata": {
    "id": "debf60fb"
   },
   "source": [
    "### Train test split\n",
    "As always, we need to split the data into train and test!"
   ]
  },
  {
   "cell_type": "code",
   "execution_count": 20,
   "id": "7a65fed7",
   "metadata": {
    "id": "7a65fed7"
   },
   "outputs": [],
   "source": [
    "X_train,X_test,y_train,y_test = train_test_split(X,y,test_size=0.2,random_state=0)"
   ]
  },
  {
   "cell_type": "markdown",
   "id": "b44e9f1d",
   "metadata": {
    "id": "b44e9f1d"
   },
   "source": [
    "## Normalization\n",
    "\n",
    "We can't skip this step! However, unlike the previous challenge, we now have non-numeric columns as well that we need to take care of!"
   ]
  },
  {
   "cell_type": "markdown",
   "id": "34c394c8",
   "metadata": {
    "id": "34c394c8"
   },
   "source": [
    "### Numeric Values\n",
    "\n",
    "You have to do it only on numerical data!\n",
    "\n",
    "<details>\n",
    "    <summary>Hint:</summary>\n",
    "fit_transform on your train and transform your test.\n",
    "</details>"
   ]
  },
  {
   "cell_type": "code",
   "execution_count": 22,
   "id": "b5aa6dc3",
   "metadata": {
    "id": "b5aa6dc3"
   },
   "outputs": [
    {
     "name": "stdout",
     "output_type": "stream",
     "text": [
      "   Id  MSSubClass  LotFrontage  LotArea  OverallQual  OverallCond  YearBuilt  \\\n",
      "0   1          60         65.0     8450            7            5       2003   \n",
      "1   2          20         80.0     9600            6            8       1976   \n",
      "2   3          60         68.0    11250            7            5       2001   \n",
      "3   4          70         60.0     9550            7            5       1915   \n",
      "4   5          60         84.0    14260            8            5       2000   \n",
      "\n",
      "   YearRemodAdd  MasVnrArea  BsmtFinSF1  ...  WoodDeckSF  OpenPorchSF  \\\n",
      "0          2003       196.0         706  ...           0           61   \n",
      "1          1976         0.0         978  ...         298            0   \n",
      "2          2002       162.0         486  ...           0           42   \n",
      "3          1970         0.0         216  ...           0           35   \n",
      "4          2000       350.0         655  ...         192           84   \n",
      "\n",
      "   EnclosedPorch  3SsnPorch  ScreenPorch  PoolArea  MiscVal  MoSold  YrSold  \\\n",
      "0              0          0            0         0        0       2    2008   \n",
      "1              0          0            0         0        0       5    2007   \n",
      "2              0          0            0         0        0       9    2008   \n",
      "3            272          0            0         0        0       2    2006   \n",
      "4              0          0            0         0        0      12    2008   \n",
      "\n",
      "   SalePrice  \n",
      "0     208500  \n",
      "1     181500  \n",
      "2     223500  \n",
      "3     140000  \n",
      "4     250000  \n",
      "\n",
      "[5 rows x 38 columns]\n"
     ]
    }
   ],
   "source": [
    "numeric_columns = df.select_dtypes(include=['number'])\n",
    "print(numeric_columns.head())"
   ]
  },
  {
   "cell_type": "code",
   "execution_count": null,
   "id": "bef7acf9",
   "metadata": {
    "id": "bef7acf9"
   },
   "outputs": [],
   "source": []
  },
  {
   "cell_type": "markdown",
   "id": "ee2c477e",
   "metadata": {
    "id": "ee2c477e"
   },
   "source": [
    "### Non-Numeric Values\n",
    "\n",
    "Now let's try to do the same for the non-numeric columns! Use `select_dtypes` again and maybe change that `include` to something else? Have a look at the documentation!\n",
    "\n",
    "After you've selected the non-numeric columns, use `OneHotEncoder` to encode the data!"
   ]
  },
  {
   "cell_type": "code",
   "execution_count": 24,
   "id": "f80a6f8d",
   "metadata": {
    "id": "f80a6f8d"
   },
   "outputs": [],
   "source": [
    "from sklearn.preprocessing import OneHotEncoder\n",
    "import pandas as pd\n",
    "\n",
    "non_numeric_columns = df.select_dtypes(exclude = ['number'])\n",
    "encoder = OneHotEncoder(sparse_output = False,drop='first')\n",
    "encoded_columns= pd.DataFrame(encoder.fit_transform(non_numeric_columns),\n",
    "                              columns=encoder.get_feature_names_out(non_numeric_columns.columns))\n",
    "                             "
   ]
  },
  {
   "cell_type": "markdown",
   "id": "d15a471e",
   "metadata": {
    "id": "d15a471e"
   },
   "source": [
    "Have a look at your encoded columns."
   ]
  },
  {
   "cell_type": "code",
   "execution_count": 26,
   "id": "2adbae08",
   "metadata": {
    "id": "2adbae08"
   },
   "outputs": [
    {
     "name": "stdout",
     "output_type": "stream",
     "text": [
      "   MSZoning_FV  MSZoning_RH  MSZoning_RL  MSZoning_RM  Street_Pave  \\\n",
      "0          0.0          0.0          1.0          0.0          1.0   \n",
      "1          0.0          0.0          1.0          0.0          1.0   \n",
      "2          0.0          0.0          1.0          0.0          1.0   \n",
      "3          0.0          0.0          1.0          0.0          1.0   \n",
      "4          0.0          0.0          1.0          0.0          1.0   \n",
      "\n",
      "   LotShape_IR2  LotShape_IR3  LotShape_Reg  LandContour_HLS  LandContour_Low  \\\n",
      "0           0.0           0.0           1.0              0.0              0.0   \n",
      "1           0.0           0.0           1.0              0.0              0.0   \n",
      "2           0.0           0.0           0.0              0.0              0.0   \n",
      "3           0.0           0.0           0.0              0.0              0.0   \n",
      "4           0.0           0.0           0.0              0.0              0.0   \n",
      "\n",
      "   ...  SaleType_ConLI  SaleType_ConLw  SaleType_New  SaleType_Oth  \\\n",
      "0  ...             0.0             0.0           0.0           0.0   \n",
      "1  ...             0.0             0.0           0.0           0.0   \n",
      "2  ...             0.0             0.0           0.0           0.0   \n",
      "3  ...             0.0             0.0           0.0           0.0   \n",
      "4  ...             0.0             0.0           0.0           0.0   \n",
      "\n",
      "   SaleType_WD  SaleCondition_AdjLand  SaleCondition_Alloca  \\\n",
      "0          1.0                    0.0                   0.0   \n",
      "1          1.0                    0.0                   0.0   \n",
      "2          1.0                    0.0                   0.0   \n",
      "3          1.0                    0.0                   0.0   \n",
      "4          1.0                    0.0                   0.0   \n",
      "\n",
      "   SaleCondition_Family  SaleCondition_Normal  SaleCondition_Partial  \n",
      "0                   0.0                   1.0                    0.0  \n",
      "1                   0.0                   1.0                    0.0  \n",
      "2                   0.0                   1.0                    0.0  \n",
      "3                   0.0                   0.0                    0.0  \n",
      "4                   0.0                   1.0                    0.0  \n",
      "\n",
      "[5 rows x 182 columns]\n"
     ]
    }
   ],
   "source": [
    "print(encoded_columns.head())"
   ]
  },
  {
   "cell_type": "markdown",
   "id": "6b4175ae",
   "metadata": {
    "id": "6b4175ae"
   },
   "source": [
    "### Recreate X\n",
    "Recreate `X` now by combining (concatenating) the numeric and non-numeric normalized columns together! Call it `X_normalized`!"
   ]
  },
  {
   "cell_type": "code",
   "execution_count": 38,
   "id": "e278eaee",
   "metadata": {
    "id": "e278eaee"
   },
   "outputs": [
    {
     "name": "stdout",
     "output_type": "stream",
     "text": [
      "    Id  MSSubClass  LotFrontage  LotArea  OverallQual  OverallCond  YearBuilt  \\\n",
      "0  1.0        60.0         65.0   8450.0          7.0          5.0     2003.0   \n",
      "1  2.0        20.0         80.0   9600.0          6.0          8.0     1976.0   \n",
      "2  3.0        60.0         68.0  11250.0          7.0          5.0     2001.0   \n",
      "3  4.0        70.0         60.0   9550.0          7.0          5.0     1915.0   \n",
      "4  5.0        60.0         84.0  14260.0          8.0          5.0     2000.0   \n",
      "\n",
      "   YearRemodAdd  MasVnrArea  BsmtFinSF1  ...  SaleType_ConLI  SaleType_ConLw  \\\n",
      "0        2003.0       196.0       706.0  ...             0.0             0.0   \n",
      "1        1976.0         0.0       978.0  ...             0.0             0.0   \n",
      "2        2002.0       162.0       486.0  ...             0.0             0.0   \n",
      "3        1970.0         0.0       216.0  ...             0.0             0.0   \n",
      "4        2000.0       350.0       655.0  ...             0.0             0.0   \n",
      "\n",
      "   SaleType_New  SaleType_Oth  SaleType_WD  SaleCondition_AdjLand  \\\n",
      "0           0.0           0.0          1.0                    0.0   \n",
      "1           0.0           0.0          1.0                    0.0   \n",
      "2           0.0           0.0          1.0                    0.0   \n",
      "3           0.0           0.0          1.0                    0.0   \n",
      "4           0.0           0.0          1.0                    0.0   \n",
      "\n",
      "   SaleCondition_Alloca  SaleCondition_Family  SaleCondition_Normal  \\\n",
      "0                   0.0                   0.0                   1.0   \n",
      "1                   0.0                   0.0                   1.0   \n",
      "2                   0.0                   0.0                   1.0   \n",
      "3                   0.0                   0.0                   0.0   \n",
      "4                   0.0                   0.0                   1.0   \n",
      "\n",
      "   SaleCondition_Partial  \n",
      "0                    0.0  \n",
      "1                    0.0  \n",
      "2                    0.0  \n",
      "3                    0.0  \n",
      "4                    0.0  \n",
      "\n",
      "[5 rows x 220 columns]\n",
      "0\n"
     ]
    }
   ],
   "source": [
    "X_normalized= pd.concat([numeric_columns,encoded_columns],axis=1)\n",
    "print(X_normalized.head())\n",
    "X_normalized.fillna(X_normalized.mean(),inplace = True)\n",
    "print(X_normalized.isnull().sum().sum())"
   ]
  },
  {
   "cell_type": "markdown",
   "id": "82c0f56a",
   "metadata": {
    "id": "82c0f56a"
   },
   "source": [
    "### Try a Linear Regression\n",
    "\n",
    "Let's try to use a Linear Regression to model house prices!\n",
    "Instantiate and fit a model!"
   ]
  },
  {
   "cell_type": "code",
   "execution_count": 40,
   "id": "19ec9506",
   "metadata": {
    "id": "19ec9506"
   },
   "outputs": [
    {
     "data": {
      "text/html": [
       "<style>#sk-container-id-1 {\n",
       "  /* Definition of color scheme common for light and dark mode */\n",
       "  --sklearn-color-text: black;\n",
       "  --sklearn-color-line: gray;\n",
       "  /* Definition of color scheme for unfitted estimators */\n",
       "  --sklearn-color-unfitted-level-0: #fff5e6;\n",
       "  --sklearn-color-unfitted-level-1: #f6e4d2;\n",
       "  --sklearn-color-unfitted-level-2: #ffe0b3;\n",
       "  --sklearn-color-unfitted-level-3: chocolate;\n",
       "  /* Definition of color scheme for fitted estimators */\n",
       "  --sklearn-color-fitted-level-0: #f0f8ff;\n",
       "  --sklearn-color-fitted-level-1: #d4ebff;\n",
       "  --sklearn-color-fitted-level-2: #b3dbfd;\n",
       "  --sklearn-color-fitted-level-3: cornflowerblue;\n",
       "\n",
       "  /* Specific color for light theme */\n",
       "  --sklearn-color-text-on-default-background: var(--sg-text-color, var(--theme-code-foreground, var(--jp-content-font-color1, black)));\n",
       "  --sklearn-color-background: var(--sg-background-color, var(--theme-background, var(--jp-layout-color0, white)));\n",
       "  --sklearn-color-border-box: var(--sg-text-color, var(--theme-code-foreground, var(--jp-content-font-color1, black)));\n",
       "  --sklearn-color-icon: #696969;\n",
       "\n",
       "  @media (prefers-color-scheme: dark) {\n",
       "    /* Redefinition of color scheme for dark theme */\n",
       "    --sklearn-color-text-on-default-background: var(--sg-text-color, var(--theme-code-foreground, var(--jp-content-font-color1, white)));\n",
       "    --sklearn-color-background: var(--sg-background-color, var(--theme-background, var(--jp-layout-color0, #111)));\n",
       "    --sklearn-color-border-box: var(--sg-text-color, var(--theme-code-foreground, var(--jp-content-font-color1, white)));\n",
       "    --sklearn-color-icon: #878787;\n",
       "  }\n",
       "}\n",
       "\n",
       "#sk-container-id-1 {\n",
       "  color: var(--sklearn-color-text);\n",
       "}\n",
       "\n",
       "#sk-container-id-1 pre {\n",
       "  padding: 0;\n",
       "}\n",
       "\n",
       "#sk-container-id-1 input.sk-hidden--visually {\n",
       "  border: 0;\n",
       "  clip: rect(1px 1px 1px 1px);\n",
       "  clip: rect(1px, 1px, 1px, 1px);\n",
       "  height: 1px;\n",
       "  margin: -1px;\n",
       "  overflow: hidden;\n",
       "  padding: 0;\n",
       "  position: absolute;\n",
       "  width: 1px;\n",
       "}\n",
       "\n",
       "#sk-container-id-1 div.sk-dashed-wrapped {\n",
       "  border: 1px dashed var(--sklearn-color-line);\n",
       "  margin: 0 0.4em 0.5em 0.4em;\n",
       "  box-sizing: border-box;\n",
       "  padding-bottom: 0.4em;\n",
       "  background-color: var(--sklearn-color-background);\n",
       "}\n",
       "\n",
       "#sk-container-id-1 div.sk-container {\n",
       "  /* jupyter's `normalize.less` sets `[hidden] { display: none; }`\n",
       "     but bootstrap.min.css set `[hidden] { display: none !important; }`\n",
       "     so we also need the `!important` here to be able to override the\n",
       "     default hidden behavior on the sphinx rendered scikit-learn.org.\n",
       "     See: https://github.com/scikit-learn/scikit-learn/issues/21755 */\n",
       "  display: inline-block !important;\n",
       "  position: relative;\n",
       "}\n",
       "\n",
       "#sk-container-id-1 div.sk-text-repr-fallback {\n",
       "  display: none;\n",
       "}\n",
       "\n",
       "div.sk-parallel-item,\n",
       "div.sk-serial,\n",
       "div.sk-item {\n",
       "  /* draw centered vertical line to link estimators */\n",
       "  background-image: linear-gradient(var(--sklearn-color-text-on-default-background), var(--sklearn-color-text-on-default-background));\n",
       "  background-size: 2px 100%;\n",
       "  background-repeat: no-repeat;\n",
       "  background-position: center center;\n",
       "}\n",
       "\n",
       "/* Parallel-specific style estimator block */\n",
       "\n",
       "#sk-container-id-1 div.sk-parallel-item::after {\n",
       "  content: \"\";\n",
       "  width: 100%;\n",
       "  border-bottom: 2px solid var(--sklearn-color-text-on-default-background);\n",
       "  flex-grow: 1;\n",
       "}\n",
       "\n",
       "#sk-container-id-1 div.sk-parallel {\n",
       "  display: flex;\n",
       "  align-items: stretch;\n",
       "  justify-content: center;\n",
       "  background-color: var(--sklearn-color-background);\n",
       "  position: relative;\n",
       "}\n",
       "\n",
       "#sk-container-id-1 div.sk-parallel-item {\n",
       "  display: flex;\n",
       "  flex-direction: column;\n",
       "}\n",
       "\n",
       "#sk-container-id-1 div.sk-parallel-item:first-child::after {\n",
       "  align-self: flex-end;\n",
       "  width: 50%;\n",
       "}\n",
       "\n",
       "#sk-container-id-1 div.sk-parallel-item:last-child::after {\n",
       "  align-self: flex-start;\n",
       "  width: 50%;\n",
       "}\n",
       "\n",
       "#sk-container-id-1 div.sk-parallel-item:only-child::after {\n",
       "  width: 0;\n",
       "}\n",
       "\n",
       "/* Serial-specific style estimator block */\n",
       "\n",
       "#sk-container-id-1 div.sk-serial {\n",
       "  display: flex;\n",
       "  flex-direction: column;\n",
       "  align-items: center;\n",
       "  background-color: var(--sklearn-color-background);\n",
       "  padding-right: 1em;\n",
       "  padding-left: 1em;\n",
       "}\n",
       "\n",
       "\n",
       "/* Toggleable style: style used for estimator/Pipeline/ColumnTransformer box that is\n",
       "clickable and can be expanded/collapsed.\n",
       "- Pipeline and ColumnTransformer use this feature and define the default style\n",
       "- Estimators will overwrite some part of the style using the `sk-estimator` class\n",
       "*/\n",
       "\n",
       "/* Pipeline and ColumnTransformer style (default) */\n",
       "\n",
       "#sk-container-id-1 div.sk-toggleable {\n",
       "  /* Default theme specific background. It is overwritten whether we have a\n",
       "  specific estimator or a Pipeline/ColumnTransformer */\n",
       "  background-color: var(--sklearn-color-background);\n",
       "}\n",
       "\n",
       "/* Toggleable label */\n",
       "#sk-container-id-1 label.sk-toggleable__label {\n",
       "  cursor: pointer;\n",
       "  display: block;\n",
       "  width: 100%;\n",
       "  margin-bottom: 0;\n",
       "  padding: 0.5em;\n",
       "  box-sizing: border-box;\n",
       "  text-align: center;\n",
       "}\n",
       "\n",
       "#sk-container-id-1 label.sk-toggleable__label-arrow:before {\n",
       "  /* Arrow on the left of the label */\n",
       "  content: \"▸\";\n",
       "  float: left;\n",
       "  margin-right: 0.25em;\n",
       "  color: var(--sklearn-color-icon);\n",
       "}\n",
       "\n",
       "#sk-container-id-1 label.sk-toggleable__label-arrow:hover:before {\n",
       "  color: var(--sklearn-color-text);\n",
       "}\n",
       "\n",
       "/* Toggleable content - dropdown */\n",
       "\n",
       "#sk-container-id-1 div.sk-toggleable__content {\n",
       "  max-height: 0;\n",
       "  max-width: 0;\n",
       "  overflow: hidden;\n",
       "  text-align: left;\n",
       "  /* unfitted */\n",
       "  background-color: var(--sklearn-color-unfitted-level-0);\n",
       "}\n",
       "\n",
       "#sk-container-id-1 div.sk-toggleable__content.fitted {\n",
       "  /* fitted */\n",
       "  background-color: var(--sklearn-color-fitted-level-0);\n",
       "}\n",
       "\n",
       "#sk-container-id-1 div.sk-toggleable__content pre {\n",
       "  margin: 0.2em;\n",
       "  border-radius: 0.25em;\n",
       "  color: var(--sklearn-color-text);\n",
       "  /* unfitted */\n",
       "  background-color: var(--sklearn-color-unfitted-level-0);\n",
       "}\n",
       "\n",
       "#sk-container-id-1 div.sk-toggleable__content.fitted pre {\n",
       "  /* unfitted */\n",
       "  background-color: var(--sklearn-color-fitted-level-0);\n",
       "}\n",
       "\n",
       "#sk-container-id-1 input.sk-toggleable__control:checked~div.sk-toggleable__content {\n",
       "  /* Expand drop-down */\n",
       "  max-height: 200px;\n",
       "  max-width: 100%;\n",
       "  overflow: auto;\n",
       "}\n",
       "\n",
       "#sk-container-id-1 input.sk-toggleable__control:checked~label.sk-toggleable__label-arrow:before {\n",
       "  content: \"▾\";\n",
       "}\n",
       "\n",
       "/* Pipeline/ColumnTransformer-specific style */\n",
       "\n",
       "#sk-container-id-1 div.sk-label input.sk-toggleable__control:checked~label.sk-toggleable__label {\n",
       "  color: var(--sklearn-color-text);\n",
       "  background-color: var(--sklearn-color-unfitted-level-2);\n",
       "}\n",
       "\n",
       "#sk-container-id-1 div.sk-label.fitted input.sk-toggleable__control:checked~label.sk-toggleable__label {\n",
       "  background-color: var(--sklearn-color-fitted-level-2);\n",
       "}\n",
       "\n",
       "/* Estimator-specific style */\n",
       "\n",
       "/* Colorize estimator box */\n",
       "#sk-container-id-1 div.sk-estimator input.sk-toggleable__control:checked~label.sk-toggleable__label {\n",
       "  /* unfitted */\n",
       "  background-color: var(--sklearn-color-unfitted-level-2);\n",
       "}\n",
       "\n",
       "#sk-container-id-1 div.sk-estimator.fitted input.sk-toggleable__control:checked~label.sk-toggleable__label {\n",
       "  /* fitted */\n",
       "  background-color: var(--sklearn-color-fitted-level-2);\n",
       "}\n",
       "\n",
       "#sk-container-id-1 div.sk-label label.sk-toggleable__label,\n",
       "#sk-container-id-1 div.sk-label label {\n",
       "  /* The background is the default theme color */\n",
       "  color: var(--sklearn-color-text-on-default-background);\n",
       "}\n",
       "\n",
       "/* On hover, darken the color of the background */\n",
       "#sk-container-id-1 div.sk-label:hover label.sk-toggleable__label {\n",
       "  color: var(--sklearn-color-text);\n",
       "  background-color: var(--sklearn-color-unfitted-level-2);\n",
       "}\n",
       "\n",
       "/* Label box, darken color on hover, fitted */\n",
       "#sk-container-id-1 div.sk-label.fitted:hover label.sk-toggleable__label.fitted {\n",
       "  color: var(--sklearn-color-text);\n",
       "  background-color: var(--sklearn-color-fitted-level-2);\n",
       "}\n",
       "\n",
       "/* Estimator label */\n",
       "\n",
       "#sk-container-id-1 div.sk-label label {\n",
       "  font-family: monospace;\n",
       "  font-weight: bold;\n",
       "  display: inline-block;\n",
       "  line-height: 1.2em;\n",
       "}\n",
       "\n",
       "#sk-container-id-1 div.sk-label-container {\n",
       "  text-align: center;\n",
       "}\n",
       "\n",
       "/* Estimator-specific */\n",
       "#sk-container-id-1 div.sk-estimator {\n",
       "  font-family: monospace;\n",
       "  border: 1px dotted var(--sklearn-color-border-box);\n",
       "  border-radius: 0.25em;\n",
       "  box-sizing: border-box;\n",
       "  margin-bottom: 0.5em;\n",
       "  /* unfitted */\n",
       "  background-color: var(--sklearn-color-unfitted-level-0);\n",
       "}\n",
       "\n",
       "#sk-container-id-1 div.sk-estimator.fitted {\n",
       "  /* fitted */\n",
       "  background-color: var(--sklearn-color-fitted-level-0);\n",
       "}\n",
       "\n",
       "/* on hover */\n",
       "#sk-container-id-1 div.sk-estimator:hover {\n",
       "  /* unfitted */\n",
       "  background-color: var(--sklearn-color-unfitted-level-2);\n",
       "}\n",
       "\n",
       "#sk-container-id-1 div.sk-estimator.fitted:hover {\n",
       "  /* fitted */\n",
       "  background-color: var(--sklearn-color-fitted-level-2);\n",
       "}\n",
       "\n",
       "/* Specification for estimator info (e.g. \"i\" and \"?\") */\n",
       "\n",
       "/* Common style for \"i\" and \"?\" */\n",
       "\n",
       ".sk-estimator-doc-link,\n",
       "a:link.sk-estimator-doc-link,\n",
       "a:visited.sk-estimator-doc-link {\n",
       "  float: right;\n",
       "  font-size: smaller;\n",
       "  line-height: 1em;\n",
       "  font-family: monospace;\n",
       "  background-color: var(--sklearn-color-background);\n",
       "  border-radius: 1em;\n",
       "  height: 1em;\n",
       "  width: 1em;\n",
       "  text-decoration: none !important;\n",
       "  margin-left: 1ex;\n",
       "  /* unfitted */\n",
       "  border: var(--sklearn-color-unfitted-level-1) 1pt solid;\n",
       "  color: var(--sklearn-color-unfitted-level-1);\n",
       "}\n",
       "\n",
       ".sk-estimator-doc-link.fitted,\n",
       "a:link.sk-estimator-doc-link.fitted,\n",
       "a:visited.sk-estimator-doc-link.fitted {\n",
       "  /* fitted */\n",
       "  border: var(--sklearn-color-fitted-level-1) 1pt solid;\n",
       "  color: var(--sklearn-color-fitted-level-1);\n",
       "}\n",
       "\n",
       "/* On hover */\n",
       "div.sk-estimator:hover .sk-estimator-doc-link:hover,\n",
       ".sk-estimator-doc-link:hover,\n",
       "div.sk-label-container:hover .sk-estimator-doc-link:hover,\n",
       ".sk-estimator-doc-link:hover {\n",
       "  /* unfitted */\n",
       "  background-color: var(--sklearn-color-unfitted-level-3);\n",
       "  color: var(--sklearn-color-background);\n",
       "  text-decoration: none;\n",
       "}\n",
       "\n",
       "div.sk-estimator.fitted:hover .sk-estimator-doc-link.fitted:hover,\n",
       ".sk-estimator-doc-link.fitted:hover,\n",
       "div.sk-label-container:hover .sk-estimator-doc-link.fitted:hover,\n",
       ".sk-estimator-doc-link.fitted:hover {\n",
       "  /* fitted */\n",
       "  background-color: var(--sklearn-color-fitted-level-3);\n",
       "  color: var(--sklearn-color-background);\n",
       "  text-decoration: none;\n",
       "}\n",
       "\n",
       "/* Span, style for the box shown on hovering the info icon */\n",
       ".sk-estimator-doc-link span {\n",
       "  display: none;\n",
       "  z-index: 9999;\n",
       "  position: relative;\n",
       "  font-weight: normal;\n",
       "  right: .2ex;\n",
       "  padding: .5ex;\n",
       "  margin: .5ex;\n",
       "  width: min-content;\n",
       "  min-width: 20ex;\n",
       "  max-width: 50ex;\n",
       "  color: var(--sklearn-color-text);\n",
       "  box-shadow: 2pt 2pt 4pt #999;\n",
       "  /* unfitted */\n",
       "  background: var(--sklearn-color-unfitted-level-0);\n",
       "  border: .5pt solid var(--sklearn-color-unfitted-level-3);\n",
       "}\n",
       "\n",
       ".sk-estimator-doc-link.fitted span {\n",
       "  /* fitted */\n",
       "  background: var(--sklearn-color-fitted-level-0);\n",
       "  border: var(--sklearn-color-fitted-level-3);\n",
       "}\n",
       "\n",
       ".sk-estimator-doc-link:hover span {\n",
       "  display: block;\n",
       "}\n",
       "\n",
       "/* \"?\"-specific style due to the `<a>` HTML tag */\n",
       "\n",
       "#sk-container-id-1 a.estimator_doc_link {\n",
       "  float: right;\n",
       "  font-size: 1rem;\n",
       "  line-height: 1em;\n",
       "  font-family: monospace;\n",
       "  background-color: var(--sklearn-color-background);\n",
       "  border-radius: 1rem;\n",
       "  height: 1rem;\n",
       "  width: 1rem;\n",
       "  text-decoration: none;\n",
       "  /* unfitted */\n",
       "  color: var(--sklearn-color-unfitted-level-1);\n",
       "  border: var(--sklearn-color-unfitted-level-1) 1pt solid;\n",
       "}\n",
       "\n",
       "#sk-container-id-1 a.estimator_doc_link.fitted {\n",
       "  /* fitted */\n",
       "  border: var(--sklearn-color-fitted-level-1) 1pt solid;\n",
       "  color: var(--sklearn-color-fitted-level-1);\n",
       "}\n",
       "\n",
       "/* On hover */\n",
       "#sk-container-id-1 a.estimator_doc_link:hover {\n",
       "  /* unfitted */\n",
       "  background-color: var(--sklearn-color-unfitted-level-3);\n",
       "  color: var(--sklearn-color-background);\n",
       "  text-decoration: none;\n",
       "}\n",
       "\n",
       "#sk-container-id-1 a.estimator_doc_link.fitted:hover {\n",
       "  /* fitted */\n",
       "  background-color: var(--sklearn-color-fitted-level-3);\n",
       "}\n",
       "</style><div id=\"sk-container-id-1\" class=\"sk-top-container\"><div class=\"sk-text-repr-fallback\"><pre>LinearRegression()</pre><b>In a Jupyter environment, please rerun this cell to show the HTML representation or trust the notebook. <br />On GitHub, the HTML representation is unable to render, please try loading this page with nbviewer.org.</b></div><div class=\"sk-container\" hidden><div class=\"sk-item\"><div class=\"sk-estimator fitted sk-toggleable\"><input class=\"sk-toggleable__control sk-hidden--visually\" id=\"sk-estimator-id-1\" type=\"checkbox\" checked><label for=\"sk-estimator-id-1\" class=\"sk-toggleable__label fitted sk-toggleable__label-arrow fitted\">&nbsp;&nbsp;LinearRegression<a class=\"sk-estimator-doc-link fitted\" rel=\"noreferrer\" target=\"_blank\" href=\"https://scikit-learn.org/1.4/modules/generated/sklearn.linear_model.LinearRegression.html\">?<span>Documentation for LinearRegression</span></a><span class=\"sk-estimator-doc-link fitted\">i<span>Fitted</span></span></label><div class=\"sk-toggleable__content fitted\"><pre>LinearRegression()</pre></div> </div></div></div></div>"
      ],
      "text/plain": [
       "LinearRegression()"
      ]
     },
     "execution_count": 40,
     "metadata": {},
     "output_type": "execute_result"
    }
   ],
   "source": [
    "from sklearn.model_selection import train_test_split\n",
    "\n",
    "X = X_normalized.drop(columns=['SalePrice'])\n",
    "y =X_normalized[['SalePrice']]\n",
    "\n",
    "X_train,X_test,y_train,y_test = train_test_split(X,y,test_size=0.2,random_state=0)\n",
    "\n",
    "from sklearn.linear_model import LinearRegression\n",
    "model = LinearRegression()\n",
    "model.fit(X_train,y_train)"
   ]
  },
  {
   "cell_type": "markdown",
   "id": "e0588197",
   "metadata": {
    "id": "e0588197"
   },
   "source": [
    "### Calculate the MAE\n",
    "\n",
    "Let's now calculate the mean absolute error of the model on the test set."
   ]
  },
  {
   "cell_type": "code",
   "execution_count": 44,
   "id": "cec1d67f",
   "metadata": {
    "id": "cec1d67f"
   },
   "outputs": [
    {
     "name": "stdout",
     "output_type": "stream",
     "text": [
      "MAE is:27542.4894189839\n"
     ]
    }
   ],
   "source": [
    "from sklearn.metrics import mean_absolute_error\n",
    "y_test_pred = model.predict(X_test)\n",
    "\n",
    "MAE =mean_absolute_error(y_test,y_test_pred)\n",
    "print(f\"MAE is:{MAE}\")"
   ]
  },
  {
   "cell_type": "markdown",
   "id": "6c5f03fc",
   "metadata": {
    "id": "6c5f03fc"
   },
   "source": [
    "That's quite a large number and it represents the amount, in the dollars, by which we were wrong about house prices! **Ouch!**"
   ]
  },
  {
   "cell_type": "markdown",
   "id": "27b0d19b",
   "metadata": {
    "id": "27b0d19b"
   },
   "source": [
    "### What went wrong?\n",
    "\n",
    "Predicting house prices is, believe it or not, a very complex endeavour! There's not one single quality that determines house prices well, it's one large complex soup of features.\n",
    "\n",
    "Furthermore, there is a good probability that this is a **non-linear** task! Which would mean that our Linear Regression is ill-suited to handle it.\n",
    "\n",
    "Whenever you encounter the limitations of a Linear Regression, there's a couple of things that you could try:\n",
    "\n",
    "- See if there is not a *numerical* data that are *categorical*\n",
    "- Remove colinear features\n",
    "- Apply some regularization techniques\n",
    "- Try non-linear models\n"
   ]
  },
  {
   "cell_type": "markdown",
   "id": "c9685a83",
   "metadata": {
    "id": "c9685a83"
   },
   "source": [
    "## Improve our model\n",
    "\n",
    "Let's try with fewer features. Select features that are relevant to predict the SalePrice.\n",
    "<details>\n",
    "<summary> Answer:</summary>\n",
    "We can start with the following features ['LotArea', 'LotConfig', 'LotShape', 'MSZoning', 'BldgType', 'Neighborhood', 'GarageCars']\n",
    "</details>"
   ]
  },
  {
   "cell_type": "code",
   "execution_count": 138,
   "id": "6ac0cfd8",
   "metadata": {
    "id": "6ac0cfd8"
   },
   "outputs": [],
   "source": [
    "import pandas as pd\n",
    "file_path = r\"C:\\Users\\dell\\Desktop\\Iowa_housing_prices.csv\"\n",
    "df = pd.read_csv(file_path)\n",
    "# print(df.head())\n",
    "\n",
    "df.drop(columns=['Alley','MasVnrType','FireplaceQu','PoolQC','Fence','MiscFeature'],inplace = True)\n",
    "df.dropna(inplace = True)\n",
    "null_counts = df.isnull().sum()\n",
    "#print(null_counts)\n",
    "# print(f\"total rows qty:{df.shape[1]}\")\n",
    "\n",
    "df= df[['LotArea', 'LotConfig', 'LotShape', 'MSZoning', 'BldgType', 'Neighborhood', 'GarageCars','SalePrice']]\n",
    "X=df.drop(columns=['SalePrice'])\n",
    "y=df['SalePrice']"
   ]
  },
  {
   "cell_type": "markdown",
   "id": "bbfdefd6",
   "metadata": {
    "id": "bbfdefd6"
   },
   "source": [
    "Split you data."
   ]
  },
  {
   "cell_type": "code",
   "execution_count": 140,
   "id": "9d19af07",
   "metadata": {
    "id": "9d19af07"
   },
   "outputs": [],
   "source": [
    "from sklearn.model_selection import train_test_split\n",
    "X_train,X_test,y_train,y_test = train_test_split(X,y,test_size =0.2,random_state=0)"
   ]
  },
  {
   "cell_type": "markdown",
   "id": "876f0faa",
   "metadata": {
    "id": "876f0faa"
   },
   "source": [
    "Be sure that you normalize only data you need to normalize."
   ]
  },
  {
   "cell_type": "code",
   "execution_count": 142,
   "id": "c549f509",
   "metadata": {
    "id": "c549f509"
   },
   "outputs": [
    {
     "name": "stdout",
     "output_type": "stream",
     "text": [
      "X_train columns: Index(['LotArea', 'GarageCars', 'LotConfig', 'LotShape', 'MSZoning',\n",
      "       'BldgType', 'Neighborhood'],\n",
      "      dtype='object')\n"
     ]
    }
   ],
   "source": [
    "from sklearn.preprocessing import StandardScaler\n",
    "scaler= StandardScaler()\n",
    "num_cols=['LotArea','GarageCars']\n",
    "other_cols = [col for col in X.columns if col not in num_cols]\n",
    "\n",
    "X_train_scaled=pd.DataFrame(scaler.fit_transform(X_train[num_cols]),columns=num_cols,index=X_train.index)\n",
    "X_test_scaled =pd.DataFrame(scaler.transform(X_test[num_cols]),columns=num_cols,index = X_test.index)\n",
    "\n",
    "X_train = pd.concat([X_train_scaled,X_train[other_cols]],axis =1)\n",
    "X_test =  pd.concat([X_test_scaled,X_test[other_cols]],axis =1)\n",
    "\n",
    "print(\"X_train columns:\",X_train.columns)"
   ]
  },
  {
   "cell_type": "markdown",
   "id": "51d8e97f",
   "metadata": {
    "id": "51d8e97f"
   },
   "source": [
    "Encode your categorical features."
   ]
  },
  {
   "cell_type": "code",
   "execution_count": 144,
   "id": "fa872e52",
   "metadata": {
    "id": "fa872e52"
   },
   "outputs": [
    {
     "name": "stdout",
     "output_type": "stream",
     "text": [
      "X_test data types:\n",
      " LotArea                 float64\n",
      "GarageCars              float64\n",
      "LotConfig_CulDSac       float64\n",
      "LotConfig_FR2           float64\n",
      "LotConfig_FR3           float64\n",
      "LotConfig_Inside        float64\n",
      "LotShape_IR2            float64\n",
      "LotShape_IR3            float64\n",
      "LotShape_Reg            float64\n",
      "MSZoning_FV             float64\n",
      "MSZoning_RH             float64\n",
      "MSZoning_RL             float64\n",
      "MSZoning_RM             float64\n",
      "BldgType_2fmCon         float64\n",
      "BldgType_Duplex         float64\n",
      "BldgType_Twnhs          float64\n",
      "BldgType_TwnhsE         float64\n",
      "Neighborhood_Blueste    float64\n",
      "Neighborhood_BrDale     float64\n",
      "Neighborhood_BrkSide    float64\n",
      "Neighborhood_ClearCr    float64\n",
      "Neighborhood_CollgCr    float64\n",
      "Neighborhood_Crawfor    float64\n",
      "Neighborhood_Edwards    float64\n",
      "Neighborhood_Gilbert    float64\n",
      "Neighborhood_IDOTRR     float64\n",
      "Neighborhood_MeadowV    float64\n",
      "Neighborhood_Mitchel    float64\n",
      "Neighborhood_NAmes      float64\n",
      "Neighborhood_NPkVill    float64\n",
      "Neighborhood_NWAmes     float64\n",
      "Neighborhood_NoRidge    float64\n",
      "Neighborhood_NridgHt    float64\n",
      "Neighborhood_OldTown    float64\n",
      "Neighborhood_SWISU      float64\n",
      "Neighborhood_Sawyer     float64\n",
      "Neighborhood_SawyerW    float64\n",
      "Neighborhood_Somerst    float64\n",
      "Neighborhood_StoneBr    float64\n",
      "Neighborhood_Timber     float64\n",
      "Neighborhood_Veenker    float64\n",
      "dtype: object\n"
     ]
    }
   ],
   "source": [
    "from sklearn.preprocessing import OneHotEncoder\n",
    "import pandas as pd\n",
    "\n",
    "# print(\"X_train columns:\",X_train.columns)\n",
    "\n",
    "categorical_columns=['LotConfig', 'LotShape', 'MSZoning', 'BldgType', 'Neighborhood']\n",
    "categorical_columns = [col for col in categorical_columns if col in X_train.columns]\n",
    "# print(\"Filtered categorical columns:\",categorical_columns)\n",
    "\n",
    "if not categorical_columns:\n",
    "    raise ValueError(\"No categorical columns available for encoding in X_train\")\n",
    "    \n",
    "encoder = OneHotEncoder(drop='first',sparse_output=False)\n",
    "encoder.fit(X_train[categorical_columns])\n",
    "\n",
    "X_train_encoded = pd.DataFrame(encoder.transform(X_train[categorical_columns]))\n",
    "X_test_encoded = pd.DataFrame(encoder.transform(X_test[categorical_columns]))\n",
    "\n",
    "X_train_encoded.columns= encoder.get_feature_names_out(categorical_columns)\n",
    "X_test_encoded.columns= encoder.get_feature_names_out(categorical_columns)\n",
    "\n",
    "X_train = X_train.drop(columns=categorical_columns).reset_index(drop=True)\n",
    "X_test = X_test.drop(columns=categorical_columns).reset_index(drop=True)\n",
    "\n",
    "X_train = pd.concat([X_train,X_train_encoded],axis =1)\n",
    "X_test =  pd.concat([X_test,X_test_encoded],axis =1)\n",
    "                       \n",
    "# print(\"X_train data types:\\n\",X_train.dtypes) \n",
    "print(\"X_test data types:\\n\",X_test.dtypes)  "
   ]
  },
  {
   "cell_type": "code",
   "execution_count": 146,
   "id": "8510d04a",
   "metadata": {
    "id": "8510d04a"
   },
   "outputs": [
    {
     "name": "stdout",
     "output_type": "stream",
     "text": [
      "MAE on training set:30434.2635772839\n",
      "MAE on test set:34994.07078025738\n"
     ]
    }
   ],
   "source": [
    "from sklearn.linear_model import LinearRegression\n",
    "from sklearn.metrics import mean_absolute_error\n",
    "\n",
    "model = LinearRegression()\n",
    "model.fit(X_train,y_train)\n",
    "\n",
    "y_train_pred= model.predict(X_train)\n",
    "y_test_pred = model.predict(X_test)\n",
    "\n",
    "mae_train =mean_absolute_error(y_train,y_train_pred)\n",
    "mae_test=mean_absolute_error(y_test,y_test_pred)\n",
    "\n",
    "print(f\"MAE on training set:{mae_train}\")\n",
    "print(f\"MAE on test set:{mae_test}\")\n"
   ]
  },
  {
   "cell_type": "markdown",
   "id": "1735a854",
   "metadata": {
    "id": "1735a854"
   },
   "source": [
    "Let's try again with a Linear regression."
   ]
  },
  {
   "cell_type": "code",
   "execution_count": null,
   "id": "f6b9d07a",
   "metadata": {
    "id": "f6b9d07a"
   },
   "outputs": [],
   "source": []
  },
  {
   "cell_type": "markdown",
   "id": "f0789a1d",
   "metadata": {
    "id": "f0789a1d"
   },
   "source": [
    "If you choose the right columns, you could see an improvement between `$30,000` and `$40,00`. That's a significant enhancement.\n",
    "\n",
    "So, it is very important to understand the data you use."
   ]
  },
  {
   "cell_type": "markdown",
   "id": "2a26b66b",
   "metadata": {
    "id": "2a26b66b"
   },
   "source": [
    "# Optional"
   ]
  },
  {
   "cell_type": "markdown",
   "id": "05d6aa36",
   "metadata": {
    "id": "05d6aa36"
   },
   "source": [
    "All of the above are out of scope for the DA bootcamp, but it's worth knowing about them! We've coded a cell below that uses a **Random Forest Model** to predict house prices! Try to see if you can make some sense of it.\n",
    "\n",
    "P.S.: You might need to adjust some variable names if we weren't able to guess them right."
   ]
  },
  {
   "cell_type": "code",
   "execution_count": null,
   "id": "822681d5",
   "metadata": {
    "id": "822681d5"
   },
   "outputs": [],
   "source": [
    "from sklearn.ensemble import RandomForestRegressor\n",
    "\n",
    "X_train = # your code\n",
    "X_test = # your code\n",
    "y_train = # your code\n",
    "y_test = # your code\n",
    "\n",
    "\n",
    "rf = RandomForestRegressor(n_estimators=100, random_state = 42)\n",
    "rf.fit(X_train, y_train)\n",
    "y_pred_rf = rf.predict(X_test)\n",
    "mae_rf = mean_absolute_error(y_test, y_pred_rf)\n",
    "mae_rf"
   ]
  },
  {
   "cell_type": "markdown",
   "id": "e839a02c",
   "metadata": {
    "id": "e839a02c"
   },
   "source": [
    "The new MAE should be somewhere around $19,000 now, which is a much more acceptable error for a house price!"
   ]
  }
 ],
 "metadata": {
  "colab": {
   "provenance": []
  },
  "kernelspec": {
   "display_name": "Python 3 (ipykernel)",
   "language": "python",
   "name": "python3"
  },
  "language_info": {
   "codemirror_mode": {
    "name": "ipython",
    "version": 3
   },
   "file_extension": ".py",
   "mimetype": "text/x-python",
   "name": "python",
   "nbconvert_exporter": "python",
   "pygments_lexer": "ipython3",
   "version": "3.12.3"
  }
 },
 "nbformat": 4,
 "nbformat_minor": 5
}
